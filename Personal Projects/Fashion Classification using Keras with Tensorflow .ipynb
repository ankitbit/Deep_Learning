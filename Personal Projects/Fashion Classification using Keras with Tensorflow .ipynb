{
 "cells": [
  {
   "cell_type": "code",
   "execution_count": 1,
   "metadata": {},
   "outputs": [
    {
     "name": "stderr",
     "output_type": "stream",
     "text": [
      "Using TensorFlow backend.\n"
     ]
    }
   ],
   "source": [
    "from keras.datasets import fashion_mnist\n",
    "(train_X,train_Y), (test_X,test_Y) = fashion_mnist.load_data()\n"
   ]
  },
  {
   "cell_type": "code",
   "execution_count": 2,
   "metadata": {},
   "outputs": [
    {
     "name": "stdout",
     "output_type": "stream",
     "text": [
      "('Training data shape : ', (60000, 28, 28), (60000,))\n",
      "('Testing data shape : ', (10000, 28, 28), (10000,))\n"
     ]
    }
   ],
   "source": [
    "import numpy as np\n",
    "from keras.utils import to_categorical\n",
    "import matplotlib.pyplot as plt\n",
    "%matplotlib inline\n",
    "\n",
    "print('Training data shape : ', train_X.shape, train_Y.shape)\n",
    "\n",
    "print('Testing data shape : ', test_X.shape, test_Y.shape)"
   ]
  },
  {
   "cell_type": "code",
   "execution_count": 3,
   "metadata": {},
   "outputs": [
    {
     "name": "stdout",
     "output_type": "stream",
     "text": [
      "('Total number of outputs : ', 10)\n",
      "('Output classes : ', array([0, 1, 2, 3, 4, 5, 6, 7, 8, 9], dtype=uint8))\n"
     ]
    }
   ],
   "source": [
    "# Find the unique numbers from the train labels\n",
    "classes = np.unique(train_Y)\n",
    "nClasses = len(classes)\n",
    "print('Total number of outputs : ', nClasses)\n",
    "print('Output classes : ', classes)"
   ]
  },
  {
   "cell_type": "code",
   "execution_count": 4,
   "metadata": {},
   "outputs": [
    {
     "data": {
      "text/plain": [
       "<matplotlib.text.Text at 0x7fc4380c7250>"
      ]
     },
     "execution_count": 4,
     "metadata": {},
     "output_type": "execute_result"
    },
    {
     "data": {
      "image/png": "[encoded data removed]",
      "text/plain": [
       "<matplotlib.figure.Figure at 0x7fc4381c4ed0>"
      ]
     },
     "metadata": {},
     "output_type": "display_data"
    }
   ],
   "source": [
    "plt.figure(figsize=[5,5])\n",
    "\n",
    "# Display the first image in training data\n",
    "plt.subplot(121)\n",
    "plt.imshow(train_X[0,:,:], cmap='gray')\n",
    "plt.title(\"Ground Truth : {}\".format(train_Y[0]))\n",
    "\n",
    "# Display the first image in testing data\n",
    "plt.subplot(122)\n",
    "plt.imshow(test_X[0,:,:], cmap='gray')\n",
    "plt.title(\"Ground Truth : {}\".format(test_Y[0]))"
   ]
  },
  {
   "cell_type": "code",
   "execution_count": 5,
   "metadata": {},
   "outputs": [
    {
     "data": {
      "text/plain": [
       "((60000, 28, 28, 1), (10000, 28, 28, 1))"
      ]
     },
     "execution_count": 5,
     "metadata": {},
     "output_type": "execute_result"
    }
   ],
   "source": [
    "train_X = train_X.reshape(-1, 28,28, 1)\n",
    "test_X = test_X.reshape(-1, 28,28, 1)\n",
    "train_X.shape, test_X.shape"
   ]
  },
  {
   "cell_type": "code",
   "execution_count": 6,
   "metadata": {},
   "outputs": [],
   "source": [
    "train_X = train_X.astype('float32')\n",
    "test_X = test_X.astype('float32')\n",
    "train_X = train_X / 255.\n",
    "test_X = test_X / 255."
   ]
  },
  {
   "cell_type": "code",
   "execution_count": 7,
   "metadata": {},
   "outputs": [
    {
     "name": "stdout",
     "output_type": "stream",
     "text": [
      "('Original label:', 9)\n",
      "('After conversion to one-hot:', array([0., 0., 0., 0., 0., 0., 0., 0., 0., 1.]))\n"
     ]
    }
   ],
   "source": [
    "# Change the labels from categorical to one-hot encoding\n",
    "train_Y_one_hot = to_categorical(train_Y)\n",
    "test_Y_one_hot = to_categorical(test_Y)\n",
    "\n",
    "# Display the change for category label using one-hot encoding\n",
    "print('Original label:', train_Y[0])\n",
    "print('After conversion to one-hot:', train_Y_one_hot[0])"
   ]
  },
  {
   "cell_type": "code",
   "execution_count": 8,
   "metadata": {},
   "outputs": [],
   "source": [
    "from sklearn.cross_validation import train_test_split\n",
    "train_X,valid_X,train_label,valid_label = train_test_split(train_X, train_Y_one_hot, test_size=0.2, random_state=13)"
   ]
  },
  {
   "cell_type": "code",
   "execution_count": 9,
   "metadata": {},
   "outputs": [
    {
     "data": {
      "text/plain": [
       "((48000, 28, 28, 1), (12000, 28, 28, 1), (48000, 10), (12000, 10))"
      ]
     },
     "execution_count": 9,
     "metadata": {},
     "output_type": "execute_result"
    }
   ],
   "source": [
    "train_X.shape,valid_X.shape,train_label.shape,valid_label.shape\n"
   ]
  },
  {
   "cell_type": "code",
   "execution_count": 10,
   "metadata": {},
   "outputs": [],
   "source": [
    "import keras\n",
    "from keras.models import Sequential,Input,Model\n",
    "from keras.layers import Dense, Dropout, Flatten\n",
    "from keras.layers import Conv2D, MaxPooling2D\n",
    "from keras.layers.normalization import BatchNormalization\n",
    "from keras.layers.advanced_activations import LeakyReLU"
   ]
  },
  {
   "cell_type": "code",
   "execution_count": 12,
   "metadata": {},
   "outputs": [],
   "source": [
    "batch_size = 64\n",
    "epochs = 20\n",
    "num_classes = 10\n",
    "\n",
    "fashion_model = Sequential()\n",
    "fashion_model.add(Conv2D(32, kernel_size=(3, 3),activation='linear',input_shape=(28,28,1),padding='same'))\n",
    "fashion_model.add(LeakyReLU(alpha=0.1))\n",
    "fashion_model.add(MaxPooling2D((2, 2),padding='same'))\n",
    "fashion_model.add(Conv2D(64, (3, 3), activation='linear',padding='same'))\n",
    "fashion_model.add(LeakyReLU(alpha=0.1))\n",
    "fashion_model.add(MaxPooling2D(pool_size=(2, 2),padding='same'))\n",
    "fashion_model.add(Conv2D(128, (3, 3), activation='linear',padding='same'))\n",
    "fashion_model.add(LeakyReLU(alpha=0.1))                  \n",
    "fashion_model.add(MaxPooling2D(pool_size=(2, 2),padding='same'))\n",
    "fashion_model.add(Flatten())\n",
    "fashion_model.add(Dense(128, activation='linear'))\n",
    "fashion_model.add(LeakyReLU(alpha=0.1))                  \n",
    "fashion_model.add(Dense(num_classes, activation='softmax'))"
   ]
  },
  {
   "cell_type": "code",
   "execution_count": null,
   "metadata": {},
   "outputs": [],
   "source": []
  },
  {
   "cell_type": "code",
   "execution_count": 13,
   "metadata": {},
   "outputs": [],
   "source": [
    "fashion_model = Sequential()\n",
    "fashion_model.add(Conv2D(32, kernel_size=(3, 3),activation='linear',input_shape=(28,28,1),padding='same'))\n",
    "fashion_model.add(LeakyReLU(alpha=0.1))\n",
    "fashion_model.add(MaxPooling2D((2, 2),padding='same'))\n",
    "fashion_model.add(Conv2D(64, (3, 3), activation='linear',padding='same'))\n",
    "fashion_model.add(LeakyReLU(alpha=0.1))\n",
    "fashion_model.add(MaxPooling2D(pool_size=(2, 2),padding='same'))\n",
    "fashion_model.add(Conv2D(128, (3, 3), activation='linear',padding='same'))\n",
    "fashion_model.add(LeakyReLU(alpha=0.1))                  \n",
    "fashion_model.add(MaxPooling2D(pool_size=(2, 2),padding='same'))\n",
    "fashion_model.add(Flatten())\n",
    "fashion_model.add(Dense(128, activation='linear'))\n",
    "fashion_model.add(LeakyReLU(alpha=0.1))                  \n",
    "fashion_model.add(Dense(num_classes, activation='softmax'))"
   ]
  },
  {
   "cell_type": "code",
   "execution_count": 15,
   "metadata": {},
   "outputs": [
    {
     "name": "stdout",
     "output_type": "stream",
     "text": [
      "_________________________________________________________________\n",
      "Layer (type)                 Output Shape              Param #   \n",
      "=================================================================\n",
      "conv2d_7 (Conv2D)            (None, 28, 28, 32)        320       \n",
      "_________________________________________________________________\n",
      "leaky_re_lu_9 (LeakyReLU)    (None, 28, 28, 32)        0         \n",
      "_________________________________________________________________\n",
      "max_pooling2d_7 (MaxPooling2 (None, 14, 14, 32)        0         \n",
      "_________________________________________________________________\n",
      "conv2d_8 (Conv2D)            (None, 14, 14, 64)        18496     \n",
      "_________________________________________________________________\n",
      "leaky_re_lu_10 (LeakyReLU)   (None, 14, 14, 64)        0         \n",
      "_________________________________________________________________\n",
      "max_pooling2d_8 (MaxPooling2 (None, 7, 7, 64)          0         \n",
      "_________________________________________________________________\n",
      "conv2d_9 (Conv2D)            (None, 7, 7, 128)         73856     \n",
      "_________________________________________________________________\n",
      "leaky_re_lu_11 (LeakyReLU)   (None, 7, 7, 128)         0         \n",
      "_________________________________________________________________\n",
      "max_pooling2d_9 (MaxPooling2 (None, 4, 4, 128)         0         \n",
      "_________________________________________________________________\n",
      "flatten_3 (Flatten)          (None, 2048)              0         \n",
      "_________________________________________________________________\n",
      "dense_4 (Dense)              (None, 128)               262272    \n",
      "_________________________________________________________________\n",
      "leaky_re_lu_12 (LeakyReLU)   (None, 128)               0         \n",
      "_________________________________________________________________\n",
      "dense_5 (Dense)              (None, 10)                1290      \n",
      "=================================================================\n",
      "Total params: 356,234\n",
      "Trainable params: 356,234\n",
      "Non-trainable params: 0\n",
      "_________________________________________________________________\n"
     ]
    }
   ],
   "source": [
    "fashion_model.compile(loss=keras.losses.categorical_crossentropy, optimizer=keras.optimizers.Adam(),metrics=['accuracy'])\n",
    "fashion_model.summary()\n"
   ]
  },
  {
   "cell_type": "code",
   "execution_count": 16,
   "metadata": {},
   "outputs": [
    {
     "name": "stdout",
     "output_type": "stream",
     "text": [
      "Train on 48000 samples, validate on 12000 samples\n",
      "Epoch 1/20\n",
      "48000/48000 [==============================] - 164s 3ms/step - loss: 0.4676 - acc: 0.8296 - val_loss: 0.3308 - val_acc: 0.8821\n",
      "Epoch 2/20\n",
      "48000/48000 [==============================] - 158s 3ms/step - loss: 0.2819 - acc: 0.8958 - val_loss: 0.2849 - val_acc: 0.8982\n",
      "Epoch 3/20\n",
      "48000/48000 [==============================] - 145s 3ms/step - loss: 0.2367 - acc: 0.9141 - val_loss: 0.2433 - val_acc: 0.9091\n",
      "Epoch 4/20\n",
      "48000/48000 [==============================] - 150s 3ms/step - loss: 0.2050 - acc: 0.9239 - val_loss: 0.2641 - val_acc: 0.9087\n",
      "Epoch 5/20\n",
      "48000/48000 [==============================] - 157s 3ms/step - loss: 0.1770 - acc: 0.9354 - val_loss: 0.2300 - val_acc: 0.9187\n",
      "Epoch 6/20\n",
      "48000/48000 [==============================] - 159s 3ms/step - loss: 0.1554 - acc: 0.9422 - val_loss: 0.2407 - val_acc: 0.9157\n",
      "Epoch 7/20\n",
      "48000/48000 [==============================] - 162s 3ms/step - loss: 0.1343 - acc: 0.9509 - val_loss: 0.2820 - val_acc: 0.9012\n",
      "Epoch 8/20\n",
      "48000/48000 [==============================] - 177s 4ms/step - loss: 0.1159 - acc: 0.9564 - val_loss: 0.2478 - val_acc: 0.9196\n",
      "Epoch 9/20\n",
      "48000/48000 [==============================] - 157s 3ms/step - loss: 0.0946 - acc: 0.9649 - val_loss: 0.2624 - val_acc: 0.9197\n",
      "Epoch 10/20\n",
      "48000/48000 [==============================] - 184s 4ms/step - loss: 0.0807 - acc: 0.9699 - val_loss: 0.2814 - val_acc: 0.9210\n",
      "Epoch 11/20\n",
      "48000/48000 [==============================] - 151s 3ms/step - loss: 0.0703 - acc: 0.9731 - val_loss: 0.2855 - val_acc: 0.9219\n",
      "Epoch 12/20\n",
      "48000/48000 [==============================] - 149s 3ms/step - loss: 0.0596 - acc: 0.9774 - val_loss: 0.3219 - val_acc: 0.9183\n",
      "Epoch 13/20\n",
      "48000/48000 [==============================] - 150s 3ms/step - loss: 0.0526 - acc: 0.9806 - val_loss: 0.3007 - val_acc: 0.9200\n",
      "Epoch 14/20\n",
      "48000/48000 [==============================] - 156s 3ms/step - loss: 0.0464 - acc: 0.9816 - val_loss: 0.3549 - val_acc: 0.9216\n",
      "Epoch 15/20\n",
      "48000/48000 [==============================] - 167s 3ms/step - loss: 0.0436 - acc: 0.9834 - val_loss: 0.3591 - val_acc: 0.9193\n",
      "Epoch 16/20\n",
      "48000/48000 [==============================] - 171s 4ms/step - loss: 0.0354 - acc: 0.9870 - val_loss: 0.4665 - val_acc: 0.9127\n",
      "Epoch 17/20\n",
      "48000/48000 [==============================] - 167s 3ms/step - loss: 0.0347 - acc: 0.9866 - val_loss: 0.3965 - val_acc: 0.9187\n",
      "Epoch 18/20\n",
      "48000/48000 [==============================] - 179s 4ms/step - loss: 0.0379 - acc: 0.9858 - val_loss: 0.4128 - val_acc: 0.9167\n",
      "Epoch 19/20\n",
      "48000/48000 [==============================] - 149s 3ms/step - loss: 0.0323 - acc: 0.9881 - val_loss: 0.3916 - val_acc: 0.9247\n",
      "Epoch 20/20\n",
      "48000/48000 [==============================] - 142s 3ms/step - loss: 0.0251 - acc: 0.9913 - val_loss: 0.4099 - val_acc: 0.9176\n"
     ]
    }
   ],
   "source": [
    "fashion_train = fashion_model.fit(train_X, train_label, batch_size=batch_size,epochs=epochs,verbose=1,validation_data=(valid_X, valid_label))\n"
   ]
  },
  {
   "cell_type": "code",
   "execution_count": 17,
   "metadata": {},
   "outputs": [
    {
     "name": "stdout",
     "output_type": "stream",
     "text": [
      "('Test loss:', 0.4201756543640047)\n",
      "('Test accuracy:', 0.9168)\n"
     ]
    }
   ],
   "source": [
    "test_eval = fashion_model.evaluate(test_X, test_Y_one_hot, verbose=0)\n",
    "print('Test loss:', test_eval[0])\n",
    "print('Test accuracy:', test_eval[1])"
   ]
  },
  {
   "cell_type": "code",
   "execution_count": 18,
   "metadata": {},
   "outputs": [
    {
     "data": {
      "image/png": "[encoded data removed]",
      "text/plain": [
       "<matplotlib.figure.Figure at 0x7fc42822ecd0>"
      ]
     },
     "metadata": {},
     "output_type": "display_data"
    },
    {
     "data": {
      "image/png": "[encoded data removed]",
      "text/plain": [
       "<matplotlib.figure.Figure at 0x7fc4281400d0>"
      ]
     },
     "metadata": {},
     "output_type": "display_data"
    }
   ],
   "source": [
    "accuracy = fashion_train.history['acc']\n",
    "val_accuracy = fashion_train.history['val_acc']\n",
    "loss = fashion_train.history['loss']\n",
    "val_loss = fashion_train.history['val_loss']\n",
    "epochs = range(len(accuracy))\n",
    "plt.plot(epochs, accuracy, 'bo', label='Training accuracy')\n",
    "plt.plot(epochs, val_accuracy, 'b', label='Validation accuracy')\n",
    "plt.title('Training and validation accuracy')\n",
    "plt.legend()\n",
    "plt.figure()\n",
    "plt.plot(epochs, loss, 'bo', label='Training loss')\n",
    "plt.plot(epochs, val_loss, 'b', label='Validation loss')\n",
    "plt.title('Training and validation loss')\n",
    "plt.legend()\n",
    "plt.show()"
   ]
  },
  {
   "cell_type": "code",
   "execution_count": 19,
   "metadata": {},
   "outputs": [],
   "source": [
    "batch_size = 64\n",
    "epochs = 20\n",
    "num_classes = 10"
   ]
  },
  {
   "cell_type": "code",
   "execution_count": 20,
   "metadata": {},
   "outputs": [
    {
     "name": "stdout",
     "output_type": "stream",
     "text": [
      "_________________________________________________________________\n",
      "Layer (type)                 Output Shape              Param #   \n",
      "=================================================================\n",
      "conv2d_10 (Conv2D)           (None, 28, 28, 32)        320       \n",
      "_________________________________________________________________\n",
      "leaky_re_lu_13 (LeakyReLU)   (None, 28, 28, 32)        0         \n",
      "_________________________________________________________________\n",
      "max_pooling2d_10 (MaxPooling (None, 14, 14, 32)        0         \n",
      "_________________________________________________________________\n",
      "dropout_1 (Dropout)          (None, 14, 14, 32)        0         \n",
      "_________________________________________________________________\n",
      "conv2d_11 (Conv2D)           (None, 14, 14, 64)        18496     \n",
      "_________________________________________________________________\n",
      "leaky_re_lu_14 (LeakyReLU)   (None, 14, 14, 64)        0         \n",
      "_________________________________________________________________\n",
      "max_pooling2d_11 (MaxPooling (None, 7, 7, 64)          0         \n",
      "_________________________________________________________________\n",
      "dropout_2 (Dropout)          (None, 7, 7, 64)          0         \n",
      "_________________________________________________________________\n",
      "conv2d_12 (Conv2D)           (None, 7, 7, 128)         73856     \n",
      "_________________________________________________________________\n",
      "leaky_re_lu_15 (LeakyReLU)   (None, 7, 7, 128)         0         \n",
      "_________________________________________________________________\n",
      "max_pooling2d_12 (MaxPooling (None, 4, 4, 128)         0         \n",
      "_________________________________________________________________\n",
      "dropout_3 (Dropout)          (None, 4, 4, 128)         0         \n",
      "_________________________________________________________________\n",
      "flatten_4 (Flatten)          (None, 2048)              0         \n",
      "_________________________________________________________________\n",
      "dense_6 (Dense)              (None, 128)               262272    \n",
      "_________________________________________________________________\n",
      "leaky_re_lu_16 (LeakyReLU)   (None, 128)               0         \n",
      "_________________________________________________________________\n",
      "dropout_4 (Dropout)          (None, 128)               0         \n",
      "_________________________________________________________________\n",
      "dense_7 (Dense)              (None, 10)                1290      \n",
      "=================================================================\n",
      "Total params: 356,234\n",
      "Trainable params: 356,234\n",
      "Non-trainable params: 0\n",
      "_________________________________________________________________\n"
     ]
    }
   ],
   "source": [
    "fashion_model = Sequential()\n",
    "fashion_model.add(Conv2D(32, kernel_size=(3, 3),activation='linear',padding='same',input_shape=(28,28,1)))\n",
    "fashion_model.add(LeakyReLU(alpha=0.1))\n",
    "fashion_model.add(MaxPooling2D((2, 2),padding='same'))\n",
    "fashion_model.add(Dropout(0.25))\n",
    "fashion_model.add(Conv2D(64, (3, 3), activation='linear',padding='same'))\n",
    "fashion_model.add(LeakyReLU(alpha=0.1))\n",
    "fashion_model.add(MaxPooling2D(pool_size=(2, 2),padding='same'))\n",
    "fashion_model.add(Dropout(0.25))\n",
    "fashion_model.add(Conv2D(128, (3, 3), activation='linear',padding='same'))\n",
    "fashion_model.add(LeakyReLU(alpha=0.1))                  \n",
    "fashion_model.add(MaxPooling2D(pool_size=(2, 2),padding='same'))\n",
    "fashion_model.add(Dropout(0.4))\n",
    "fashion_model.add(Flatten())\n",
    "fashion_model.add(Dense(128, activation='linear'))\n",
    "fashion_model.add(LeakyReLU(alpha=0.1))           \n",
    "fashion_model.add(Dropout(0.3))\n",
    "fashion_model.add(Dense(num_classes, activation='softmax'))\n",
    "\n",
    "\n",
    "fashion_model.summary()"
   ]
  },
  {
   "cell_type": "code",
   "execution_count": 21,
   "metadata": {},
   "outputs": [
    {
     "name": "stdout",
     "output_type": "stream",
     "text": [
      "Train on 48000 samples, validate on 12000 samples\n",
      "Epoch 1/20\n",
      "48000/48000 [==============================] - 161s 3ms/step - loss: 0.6050 - acc: 0.7739 - val_loss: 0.3712 - val_acc: 0.8618\n",
      "Epoch 2/20\n",
      "48000/48000 [==============================] - 151s 3ms/step - loss: 0.3793 - acc: 0.8601 - val_loss: 0.3176 - val_acc: 0.8829\n",
      "Epoch 3/20\n",
      "48000/48000 [==============================] - 149s 3ms/step - loss: 0.3323 - acc: 0.8765 - val_loss: 0.2833 - val_acc: 0.8944\n",
      "Epoch 4/20\n",
      "48000/48000 [==============================] - 151s 3ms/step - loss: 0.3026 - acc: 0.8877 - val_loss: 0.2573 - val_acc: 0.9040\n",
      "Epoch 5/20\n",
      "48000/48000 [==============================] - 156s 3ms/step - loss: 0.2819 - acc: 0.8943 - val_loss: 0.2538 - val_acc: 0.9042\n",
      "Epoch 6/20\n",
      "48000/48000 [==============================] - 149s 3ms/step - loss: 0.2678 - acc: 0.8995 - val_loss: 0.2542 - val_acc: 0.9032\n",
      "Epoch 7/20\n",
      "48000/48000 [==============================] - 146s 3ms/step - loss: 0.2608 - acc: 0.9024 - val_loss: 0.2323 - val_acc: 0.9144\n",
      "Epoch 8/20\n",
      "48000/48000 [==============================] - 146s 3ms/step - loss: 0.2469 - acc: 0.9084 - val_loss: 0.2273 - val_acc: 0.9163\n",
      "Epoch 9/20\n",
      "48000/48000 [==============================] - 139s 3ms/step - loss: 0.2386 - acc: 0.9100 - val_loss: 0.2228 - val_acc: 0.9192\n",
      "Epoch 10/20\n",
      "48000/48000 [==============================] - 141s 3ms/step - loss: 0.2332 - acc: 0.9127 - val_loss: 0.2356 - val_acc: 0.9107\n",
      "Epoch 11/20\n",
      "48000/48000 [==============================] - 140s 3ms/step - loss: 0.2288 - acc: 0.9142 - val_loss: 0.2229 - val_acc: 0.9183\n",
      "Epoch 12/20\n",
      "48000/48000 [==============================] - 142s 3ms/step - loss: 0.2281 - acc: 0.9143 - val_loss: 0.2227 - val_acc: 0.9193\n",
      "Epoch 13/20\n",
      "48000/48000 [==============================] - 138s 3ms/step - loss: 0.2167 - acc: 0.9193 - val_loss: 0.2177 - val_acc: 0.9238\n",
      "Epoch 14/20\n",
      "48000/48000 [==============================] - 138s 3ms/step - loss: 0.2175 - acc: 0.9188 - val_loss: 0.2149 - val_acc: 0.9198\n",
      "Epoch 15/20\n",
      "48000/48000 [==============================] - 138s 3ms/step - loss: 0.2105 - acc: 0.9202 - val_loss: 0.2171 - val_acc: 0.9211\n",
      "Epoch 16/20\n",
      "48000/48000 [==============================] - 138s 3ms/step - loss: 0.2074 - acc: 0.9223 - val_loss: 0.2092 - val_acc: 0.9243\n",
      "Epoch 17/20\n",
      "48000/48000 [==============================] - 139s 3ms/step - loss: 0.2024 - acc: 0.9227 - val_loss: 0.2122 - val_acc: 0.9235\n",
      "Epoch 18/20\n",
      "48000/48000 [==============================] - 138s 3ms/step - loss: 0.2040 - acc: 0.9235 - val_loss: 0.2210 - val_acc: 0.9258\n",
      "Epoch 19/20\n",
      "48000/48000 [==============================] - 139s 3ms/step - loss: 0.2012 - acc: 0.9242 - val_loss: 0.2201 - val_acc: 0.9227\n",
      "Epoch 20/20\n",
      "48000/48000 [==============================] - 138s 3ms/step - loss: 0.1966 - acc: 0.9248 - val_loss: 0.2136 - val_acc: 0.9247\n"
     ]
    }
   ],
   "source": [
    "fashion_model.compile(loss=keras.losses.categorical_crossentropy, optimizer=keras.optimizers.Adam(),metrics=['accuracy'])\n",
    "fashion_train_dropout = fashion_model.fit(train_X, train_label, batch_size=batch_size,epochs=epochs,verbose=1,validation_data=(valid_X, valid_label))"
   ]
  }
 ],
 "metadata": {
  "kernelspec": {
   "display_name": "python3.5",
   "language": "python",
   "name": "python3.5"
  },
  "language_info": {
   "codemirror_mode": {
    "name": "ipython",
    "version": 2
   },
   "file_extension": ".py",
   "mimetype": "text/x-python",
   "name": "python",
   "nbconvert_exporter": "python",
   "pygments_lexer": "ipython2",
   "version": "2.7.12"
  }
 },
 "nbformat": 4,
 "nbformat_minor": 2
}
